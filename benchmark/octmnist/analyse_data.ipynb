{
 "cells": [
  {
   "cell_type": "code",
   "execution_count": 1,
   "metadata": {},
   "outputs": [
    {
     "name": "stdout",
     "output_type": "stream",
     "text": [
      "^C\n",
      "\u001b[31mERROR: Operation cancelled by user\u001b[0m\u001b[31m\n",
      "\u001b[0m"
     ]
    }
   ],
   "source": [
    "!pip install medmnist"
   ]
  },
  {
   "cell_type": "code",
   "execution_count": 1,
   "metadata": {},
   "outputs": [
    {
     "name": "stderr",
     "output_type": "stream",
     "text": [
      "/home/vaipe/anaconda3/envs/anhtn/lib/python3.9/site-packages/tqdm/auto.py:21: TqdmWarning: IProgress not found. Please update jupyter and ipywidgets. See https://ipywidgets.readthedocs.io/en/stable/user_install.html\n",
      "  from .autonotebook import tqdm as notebook_tqdm\n"
     ]
    }
   ],
   "source": [
    "from medmnist import OCTMNIST\n",
    "from torchvision import datasets, transforms"
   ]
  },
  {
   "cell_type": "code",
   "execution_count": 49,
   "metadata": {},
   "outputs": [],
   "source": [
    "dataset = np.load('./data/octmnist.npz')\n",
    "dataset = dict(dataset)"
   ]
  },
  {
   "cell_type": "code",
   "execution_count": 50,
   "metadata": {},
   "outputs": [],
   "source": [
    "if len(dataset['train_images'].shape) == 3:\n",
    "    input_shape = (1, 28, 28)\n",
    "    dataset['train_images'] = dataset['train_images'][..., np.newaxis]\n",
    "    dataset['val_images'] = dataset['val_images'][..., np.newaxis]\n",
    "    dataset['test_images'] = dataset['test_images'][..., np.newaxis]"
   ]
  },
  {
   "cell_type": "code",
   "execution_count": null,
   "metadata": {},
   "outputs": [],
   "source": [
    "dataset['train_images'][0]"
   ]
  },
  {
   "cell_type": "code",
   "execution_count": 2,
   "metadata": {},
   "outputs": [
    {
     "name": "stdout",
     "output_type": "stream",
     "text": [
      "Using downloaded and verified file: ./data/octmnist.npz\n",
      "Using downloaded and verified file: ./data/octmnist.npz\n",
      "Using downloaded and verified file: ./data/octmnist.npz\n"
     ]
    }
   ],
   "source": [
    "train = OCTMNIST(split=\"train\", download = True, root='./data', transform=transforms.Compose([transforms.ToTensor(), transforms.Normalize((0.1307,), (0.3081,))]))\n",
    "val = OCTMNIST(split=\"val\", download = True, root='./data', transform=transforms.Compose([transforms.ToTensor(), transforms.Normalize((0.1307,), (0.3081,))]))\n",
    "test = OCTMNIST(split=\"test\", download = True, root='./data', transform=transforms.Compose([transforms.ToTensor(), transforms.Normalize((0.1307,), (0.3081,))]))"
   ]
  },
  {
   "cell_type": "code",
   "execution_count": 9,
   "metadata": {},
   "outputs": [],
   "source": [
    "train_labels = [i[1][0] for i in train]"
   ]
  },
  {
   "cell_type": "code",
   "execution_count": 12,
   "metadata": {},
   "outputs": [
    {
     "name": "stdout",
     "output_type": "stream",
     "text": [
      "0 33484\n",
      "1 10213\n",
      "2 7754\n",
      "3 46026\n"
     ]
    }
   ],
   "source": [
    "import numpy as np\n",
    "for i in np.unique(train_labels):\n",
    "    print(i, train_labels.count(i))"
   ]
  },
  {
   "cell_type": "code",
   "execution_count": 62,
   "metadata": {},
   "outputs": [],
   "source": [
    "def extract_index(indexes, data, labels):\n",
    "  i_0_3=[idx for idx,elem in enumerate(labels) if elem in indexes]\n",
    "  x=np.asarray([data[id] for id in i_0_3])\n",
    "  y=np.asarray([labels[id] for id in i_0_3])\n",
    "  return x,y\n",
    "\n",
    "x_train, y_train = extract_index([0,3], train.imgs, train.labels)\n",
    "x_val, y_val = extract_index([0,3],val.imgs, val.labels)\n",
    "x_test, y_test = extract_index([0,3], test.imgs, test.labels)\n"
   ]
  },
  {
   "cell_type": "code",
   "execution_count": 73,
   "metadata": {},
   "outputs": [],
   "source": [
    "test = x_train[0]"
   ]
  },
  {
   "cell_type": "code",
   "execution_count": 75,
   "metadata": {},
   "outputs": [
    {
     "data": {
      "text/plain": [
       "(28, 28)"
      ]
     },
     "execution_count": 75,
     "metadata": {},
     "output_type": "execute_result"
    }
   ],
   "source": [
    "test.shape"
   ]
  }
 ],
 "metadata": {
  "kernelspec": {
   "display_name": "anhtn",
   "language": "python",
   "name": "python3"
  },
  "language_info": {
   "codemirror_mode": {
    "name": "ipython",
    "version": 3
   },
   "file_extension": ".py",
   "mimetype": "text/x-python",
   "name": "python",
   "nbconvert_exporter": "python",
   "pygments_lexer": "ipython3",
   "version": "3.9.12"
  }
 },
 "nbformat": 4,
 "nbformat_minor": 2
}
